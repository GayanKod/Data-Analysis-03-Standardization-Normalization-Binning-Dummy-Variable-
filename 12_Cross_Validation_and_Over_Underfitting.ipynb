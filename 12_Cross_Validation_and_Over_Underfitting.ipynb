{
  "nbformat": 4,
  "nbformat_minor": 0,
  "metadata": {
    "colab": {
      "name": "12 Cross Validation  and Over/Underfitting.ipynb",
      "provenance": [],
      "authorship_tag": "ABX9TyPyQaRmPjAzSzTxHMF/smPO",
      "include_colab_link": true
    },
    "kernelspec": {
      "name": "python3",
      "display_name": "Python 3"
    },
    "widgets": {
      "application/vnd.jupyter.widget-state+json": {
        "587f06ca5e05462481b4e68c0171c5ff": {
          "model_module": "@jupyter-widgets/controls",
          "model_name": "VBoxModel",
          "state": {
            "_view_name": "VBoxView",
            "_dom_classes": [
              "widget-interact"
            ],
            "_model_name": "VBoxModel",
            "_view_module": "@jupyter-widgets/controls",
            "_model_module_version": "1.5.0",
            "_view_count": null,
            "_view_module_version": "1.5.0",
            "box_style": "",
            "layout": "IPY_MODEL_6e6cff4894c24cd28a8760480c3ff69c",
            "_model_module": "@jupyter-widgets/controls",
            "children": [
              "IPY_MODEL_6a48f0ab35084e459ad4e43aeeb028ee",
              "IPY_MODEL_30c796e48a8847db9aceb04bfbcb5563",
              "IPY_MODEL_b9b53a30c4134b2eafdc24f619f284d0"
            ]
          }
        },
        "6e6cff4894c24cd28a8760480c3ff69c": {
          "model_module": "@jupyter-widgets/base",
          "model_name": "LayoutModel",
          "state": {
            "_view_name": "LayoutView",
            "grid_template_rows": null,
            "right": null,
            "justify_content": null,
            "_view_module": "@jupyter-widgets/base",
            "overflow": null,
            "_model_module_version": "1.2.0",
            "_view_count": null,
            "flex_flow": null,
            "width": null,
            "min_width": null,
            "border": null,
            "align_items": null,
            "bottom": null,
            "_model_module": "@jupyter-widgets/base",
            "top": null,
            "grid_column": null,
            "overflow_y": null,
            "overflow_x": null,
            "grid_auto_flow": null,
            "grid_area": null,
            "grid_template_columns": null,
            "flex": null,
            "_model_name": "LayoutModel",
            "justify_items": null,
            "grid_row": null,
            "max_height": null,
            "align_content": null,
            "visibility": null,
            "align_self": null,
            "height": null,
            "min_height": null,
            "padding": null,
            "grid_auto_rows": null,
            "grid_gap": null,
            "max_width": null,
            "order": null,
            "_view_module_version": "1.2.0",
            "grid_template_areas": null,
            "object_position": null,
            "object_fit": null,
            "grid_auto_columns": null,
            "margin": null,
            "display": null,
            "left": null
          }
        },
        "6a48f0ab35084e459ad4e43aeeb028ee": {
          "model_module": "@jupyter-widgets/controls",
          "model_name": "IntSliderModel",
          "state": {
            "_view_name": "IntSliderView",
            "style": "IPY_MODEL_9f56d76f7ad348e8b1c866ffb7fe0024",
            "_dom_classes": [],
            "description": "order",
            "step": 1,
            "_model_name": "IntSliderModel",
            "orientation": "horizontal",
            "max": 6,
            "_view_module": "@jupyter-widgets/controls",
            "_model_module_version": "1.5.0",
            "value": 3,
            "_view_count": null,
            "disabled": false,
            "_view_module_version": "1.5.0",
            "min": 0,
            "continuous_update": true,
            "readout_format": "d",
            "description_tooltip": null,
            "readout": true,
            "_model_module": "@jupyter-widgets/controls",
            "layout": "IPY_MODEL_890d1323939c4733b18a04157f4d2e1c"
          }
        },
        "30c796e48a8847db9aceb04bfbcb5563": {
          "model_module": "@jupyter-widgets/controls",
          "model_name": "FloatSliderModel",
          "state": {
            "_view_name": "FloatSliderView",
            "style": "IPY_MODEL_39c546db918d413e8d4080e7389aa2f8",
            "_dom_classes": [],
            "description": "test_data",
            "step": 0.05,
            "_model_name": "FloatSliderModel",
            "orientation": "horizontal",
            "max": 0.95,
            "_view_module": "@jupyter-widgets/controls",
            "_model_module_version": "1.5.0",
            "value": 0.45,
            "_view_count": null,
            "disabled": false,
            "_view_module_version": "1.5.0",
            "min": 0.05,
            "continuous_update": true,
            "readout_format": ".2f",
            "description_tooltip": null,
            "readout": true,
            "_model_module": "@jupyter-widgets/controls",
            "layout": "IPY_MODEL_194c6a0fe75245338fb1951a1ac21c36"
          }
        },
        "b9b53a30c4134b2eafdc24f619f284d0": {
          "model_module": "@jupyter-widgets/output",
          "model_name": "OutputModel",
          "state": {
            "_view_name": "OutputView",
            "msg_id": "",
            "_dom_classes": [],
            "_model_name": "OutputModel",
            "outputs": [
              {
                "output_type": "display_data",
                "metadata": {
                  "tags": []
                },
                "image/png": "iVBORw0KGgoAAAANSUhEUgAAAugAAAJCCAYAAACS3TIYAAAABHNCSVQICAgIfAhkiAAAAAlwSFlz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\nAADwkP8P/BJJvttmLMcAAAAASUVORK5CYII=\n",
                "text/plain": "<Figure size 864x720 with 1 Axes>"
              }
            ],
            "_view_module": "@jupyter-widgets/output",
            "_model_module_version": "1.0.0",
            "_view_count": null,
            "_view_module_version": "1.0.0",
            "layout": "IPY_MODEL_4d7a4e366bbd4f768c3c25c58d15b5ff",
            "_model_module": "@jupyter-widgets/output"
          }
        },
        "9f56d76f7ad348e8b1c866ffb7fe0024": {
          "model_module": "@jupyter-widgets/controls",
          "model_name": "SliderStyleModel",
          "state": {
            "_view_name": "StyleView",
            "handle_color": null,
            "_model_name": "SliderStyleModel",
            "description_width": "",
            "_view_module": "@jupyter-widgets/base",
            "_model_module_version": "1.5.0",
            "_view_count": null,
            "_view_module_version": "1.2.0",
            "_model_module": "@jupyter-widgets/controls"
          }
        },
        "890d1323939c4733b18a04157f4d2e1c": {
          "model_module": "@jupyter-widgets/base",
          "model_name": "LayoutModel",
          "state": {
            "_view_name": "LayoutView",
            "grid_template_rows": null,
            "right": null,
            "justify_content": null,
            "_view_module": "@jupyter-widgets/base",
            "overflow": null,
            "_model_module_version": "1.2.0",
            "_view_count": null,
            "flex_flow": null,
            "width": null,
            "min_width": null,
            "border": null,
            "align_items": null,
            "bottom": null,
            "_model_module": "@jupyter-widgets/base",
            "top": null,
            "grid_column": null,
            "overflow_y": null,
            "overflow_x": null,
            "grid_auto_flow": null,
            "grid_area": null,
            "grid_template_columns": null,
            "flex": null,
            "_model_name": "LayoutModel",
            "justify_items": null,
            "grid_row": null,
            "max_height": null,
            "align_content": null,
            "visibility": null,
            "align_self": null,
            "height": null,
            "min_height": null,
            "padding": null,
            "grid_auto_rows": null,
            "grid_gap": null,
            "max_width": null,
            "order": null,
            "_view_module_version": "1.2.0",
            "grid_template_areas": null,
            "object_position": null,
            "object_fit": null,
            "grid_auto_columns": null,
            "margin": null,
            "display": null,
            "left": null
          }
        },
        "39c546db918d413e8d4080e7389aa2f8": {
          "model_module": "@jupyter-widgets/controls",
          "model_name": "SliderStyleModel",
          "state": {
            "_view_name": "StyleView",
            "handle_color": null,
            "_model_name": "SliderStyleModel",
            "description_width": "",
            "_view_module": "@jupyter-widgets/base",
            "_model_module_version": "1.5.0",
            "_view_count": null,
            "_view_module_version": "1.2.0",
            "_model_module": "@jupyter-widgets/controls"
          }
        },
        "194c6a0fe75245338fb1951a1ac21c36": {
          "model_module": "@jupyter-widgets/base",
          "model_name": "LayoutModel",
          "state": {
            "_view_name": "LayoutView",
            "grid_template_rows": null,
            "right": null,
            "justify_content": null,
            "_view_module": "@jupyter-widgets/base",
            "overflow": null,
            "_model_module_version": "1.2.0",
            "_view_count": null,
            "flex_flow": null,
            "width": null,
            "min_width": null,
            "border": null,
            "align_items": null,
            "bottom": null,
            "_model_module": "@jupyter-widgets/base",
            "top": null,
            "grid_column": null,
            "overflow_y": null,
            "overflow_x": null,
            "grid_auto_flow": null,
            "grid_area": null,
            "grid_template_columns": null,
            "flex": null,
            "_model_name": "LayoutModel",
            "justify_items": null,
            "grid_row": null,
            "max_height": null,
            "align_content": null,
            "visibility": null,
            "align_self": null,
            "height": null,
            "min_height": null,
            "padding": null,
            "grid_auto_rows": null,
            "grid_gap": null,
            "max_width": null,
            "order": null,
            "_view_module_version": "1.2.0",
            "grid_template_areas": null,
            "object_position": null,
            "object_fit": null,
            "grid_auto_columns": null,
            "margin": null,
            "display": null,
            "left": null
          }
        }
      }
    }
  },
  "cells": [
    {
      "cell_type": "markdown",
      "metadata": {
        "id": "view-in-github",
        "colab_type": "text"
      },
      "source": [
        "<a href=\"https://colab.research.google.com/github/ds-sinhalen/Data-Analysis-03-Standardization-Normalization-Binning-Dummy-Variable-/blob/master/12_Cross_Validation_and_Over_Underfitting.ipynb\" target=\"_parent\"><img src=\"https://colab.research.google.com/assets/colab-badge.svg\" alt=\"Open In Colab\"/></a>"
      ]
    },
    {
      "cell_type": "code",
      "metadata": {
        "id": "W2Gwr5afGRxU",
        "colab_type": "code",
        "colab": {}
      },
      "source": [
        "import pandas as pd\n",
        "import numpy as np"
      ],
      "execution_count": 0,
      "outputs": []
    },
    {
      "cell_type": "code",
      "metadata": {
        "id": "eE8LMG-vpBMh",
        "colab_type": "code",
        "colab": {}
      },
      "source": [
        "import matplotlib.pyplot as plt\n",
        "%matplotlib inline\n",
        "import seaborn as sns"
      ],
      "execution_count": 0,
      "outputs": []
    },
    {
      "cell_type": "code",
      "metadata": {
        "id": "yGEw_ZLhH-iP",
        "colab_type": "code",
        "colab": {}
      },
      "source": [
        "from IPython.display import display\n",
        "#from IPython.html import widgets \n",
        "from ipywidgets import interact, interactive, fixed, interact_manual, widgets "
      ],
      "execution_count": 0,
      "outputs": []
    },
    {
      "cell_type": "code",
      "metadata": {
        "id": "Auj60knhG5WQ",
        "colab_type": "code",
        "outputId": "68ee4cba-2991-49b1-88cb-4e9301bc4ecf",
        "colab": {
          "base_uri": "https://localhost:8080/",
          "height": 309
        }
      },
      "source": [
        "df = pd.read_csv(\"Auto_mobile.csv\")\n",
        "df.head()"
      ],
      "execution_count": 0,
      "outputs": [
        {
          "output_type": "execute_result",
          "data": {
            "text/html": [
              "<div>\n",
              "<style scoped>\n",
              "    .dataframe tbody tr th:only-of-type {\n",
              "        vertical-align: middle;\n",
              "    }\n",
              "\n",
              "    .dataframe tbody tr th {\n",
              "        vertical-align: top;\n",
              "    }\n",
              "\n",
              "    .dataframe thead th {\n",
              "        text-align: right;\n",
              "    }\n",
              "</style>\n",
              "<table border=\"1\" class=\"dataframe\">\n",
              "  <thead>\n",
              "    <tr style=\"text-align: right;\">\n",
              "      <th></th>\n",
              "      <th>symboling</th>\n",
              "      <th>normalized-losses</th>\n",
              "      <th>make</th>\n",
              "      <th>num-of-doors</th>\n",
              "      <th>body-style</th>\n",
              "      <th>drive-wheels</th>\n",
              "      <th>engine-location</th>\n",
              "      <th>wheel-base</th>\n",
              "      <th>length</th>\n",
              "      <th>width</th>\n",
              "      <th>height</th>\n",
              "      <th>curb-weight</th>\n",
              "      <th>engine-type</th>\n",
              "      <th>num-of-cylinders</th>\n",
              "      <th>engine-size</th>\n",
              "      <th>fuel-system</th>\n",
              "      <th>bore</th>\n",
              "      <th>stroke</th>\n",
              "      <th>compression-ratio</th>\n",
              "      <th>horsepower</th>\n",
              "      <th>peak-rpm</th>\n",
              "      <th>city-mpg</th>\n",
              "      <th>highway-mpg</th>\n",
              "      <th>price</th>\n",
              "      <th>highway-L/100km</th>\n",
              "      <th>city-L/100km</th>\n",
              "      <th>horsepower-binned</th>\n",
              "      <th>fuel-type-diesel</th>\n",
              "      <th>fuel-type-gas</th>\n",
              "      <th>aspiration-std</th>\n",
              "      <th>aspiration-turbo</th>\n",
              "    </tr>\n",
              "  </thead>\n",
              "  <tbody>\n",
              "    <tr>\n",
              "      <th>0</th>\n",
              "      <td>3</td>\n",
              "      <td>122</td>\n",
              "      <td>alfa-romero</td>\n",
              "      <td>two</td>\n",
              "      <td>convertible</td>\n",
              "      <td>rwd</td>\n",
              "      <td>front</td>\n",
              "      <td>88.6</td>\n",
              "      <td>0.811148</td>\n",
              "      <td>0.890278</td>\n",
              "      <td>0.816054</td>\n",
              "      <td>2548</td>\n",
              "      <td>dohc</td>\n",
              "      <td>four</td>\n",
              "      <td>130</td>\n",
              "      <td>mpfi</td>\n",
              "      <td>3.47</td>\n",
              "      <td>2.68</td>\n",
              "      <td>9.0</td>\n",
              "      <td>111.0</td>\n",
              "      <td>5000.0</td>\n",
              "      <td>21</td>\n",
              "      <td>27</td>\n",
              "      <td>13495.0</td>\n",
              "      <td>8.703704</td>\n",
              "      <td>11.190476</td>\n",
              "      <td>Low</td>\n",
              "      <td>0</td>\n",
              "      <td>1</td>\n",
              "      <td>1</td>\n",
              "      <td>0</td>\n",
              "    </tr>\n",
              "    <tr>\n",
              "      <th>1</th>\n",
              "      <td>3</td>\n",
              "      <td>122</td>\n",
              "      <td>alfa-romero</td>\n",
              "      <td>two</td>\n",
              "      <td>convertible</td>\n",
              "      <td>rwd</td>\n",
              "      <td>front</td>\n",
              "      <td>88.6</td>\n",
              "      <td>0.811148</td>\n",
              "      <td>0.890278</td>\n",
              "      <td>0.816054</td>\n",
              "      <td>2548</td>\n",
              "      <td>dohc</td>\n",
              "      <td>four</td>\n",
              "      <td>130</td>\n",
              "      <td>mpfi</td>\n",
              "      <td>3.47</td>\n",
              "      <td>2.68</td>\n",
              "      <td>9.0</td>\n",
              "      <td>111.0</td>\n",
              "      <td>5000.0</td>\n",
              "      <td>21</td>\n",
              "      <td>27</td>\n",
              "      <td>16500.0</td>\n",
              "      <td>8.703704</td>\n",
              "      <td>11.190476</td>\n",
              "      <td>Low</td>\n",
              "      <td>0</td>\n",
              "      <td>1</td>\n",
              "      <td>1</td>\n",
              "      <td>0</td>\n",
              "    </tr>\n",
              "    <tr>\n",
              "      <th>2</th>\n",
              "      <td>1</td>\n",
              "      <td>122</td>\n",
              "      <td>alfa-romero</td>\n",
              "      <td>two</td>\n",
              "      <td>hatchback</td>\n",
              "      <td>rwd</td>\n",
              "      <td>front</td>\n",
              "      <td>94.5</td>\n",
              "      <td>0.822681</td>\n",
              "      <td>0.909722</td>\n",
              "      <td>0.876254</td>\n",
              "      <td>2823</td>\n",
              "      <td>ohcv</td>\n",
              "      <td>six</td>\n",
              "      <td>152</td>\n",
              "      <td>mpfi</td>\n",
              "      <td>2.68</td>\n",
              "      <td>3.47</td>\n",
              "      <td>9.0</td>\n",
              "      <td>154.0</td>\n",
              "      <td>5000.0</td>\n",
              "      <td>19</td>\n",
              "      <td>26</td>\n",
              "      <td>16500.0</td>\n",
              "      <td>9.038462</td>\n",
              "      <td>12.368421</td>\n",
              "      <td>Medium</td>\n",
              "      <td>0</td>\n",
              "      <td>1</td>\n",
              "      <td>1</td>\n",
              "      <td>0</td>\n",
              "    </tr>\n",
              "    <tr>\n",
              "      <th>3</th>\n",
              "      <td>2</td>\n",
              "      <td>164</td>\n",
              "      <td>audi</td>\n",
              "      <td>four</td>\n",
              "      <td>sedan</td>\n",
              "      <td>fwd</td>\n",
              "      <td>front</td>\n",
              "      <td>99.8</td>\n",
              "      <td>0.848630</td>\n",
              "      <td>0.919444</td>\n",
              "      <td>0.908027</td>\n",
              "      <td>2337</td>\n",
              "      <td>ohc</td>\n",
              "      <td>four</td>\n",
              "      <td>109</td>\n",
              "      <td>mpfi</td>\n",
              "      <td>3.19</td>\n",
              "      <td>3.40</td>\n",
              "      <td>10.0</td>\n",
              "      <td>102.0</td>\n",
              "      <td>5500.0</td>\n",
              "      <td>24</td>\n",
              "      <td>30</td>\n",
              "      <td>13950.0</td>\n",
              "      <td>7.833333</td>\n",
              "      <td>9.791667</td>\n",
              "      <td>Low</td>\n",
              "      <td>0</td>\n",
              "      <td>1</td>\n",
              "      <td>1</td>\n",
              "      <td>0</td>\n",
              "    </tr>\n",
              "    <tr>\n",
              "      <th>4</th>\n",
              "      <td>2</td>\n",
              "      <td>164</td>\n",
              "      <td>audi</td>\n",
              "      <td>four</td>\n",
              "      <td>sedan</td>\n",
              "      <td>4wd</td>\n",
              "      <td>front</td>\n",
              "      <td>99.4</td>\n",
              "      <td>0.848630</td>\n",
              "      <td>0.922222</td>\n",
              "      <td>0.908027</td>\n",
              "      <td>2824</td>\n",
              "      <td>ohc</td>\n",
              "      <td>five</td>\n",
              "      <td>136</td>\n",
              "      <td>mpfi</td>\n",
              "      <td>3.19</td>\n",
              "      <td>3.40</td>\n",
              "      <td>8.0</td>\n",
              "      <td>115.0</td>\n",
              "      <td>5500.0</td>\n",
              "      <td>18</td>\n",
              "      <td>22</td>\n",
              "      <td>17450.0</td>\n",
              "      <td>10.681818</td>\n",
              "      <td>13.055556</td>\n",
              "      <td>Low</td>\n",
              "      <td>0</td>\n",
              "      <td>1</td>\n",
              "      <td>1</td>\n",
              "      <td>0</td>\n",
              "    </tr>\n",
              "  </tbody>\n",
              "</table>\n",
              "</div>"
            ],
            "text/plain": [
              "   symboling  normalized-losses  ... aspiration-std aspiration-turbo\n",
              "0          3                122  ...              1                0\n",
              "1          3                122  ...              1                0\n",
              "2          1                122  ...              1                0\n",
              "3          2                164  ...              1                0\n",
              "4          2                164  ...              1                0\n",
              "\n",
              "[5 rows x 31 columns]"
            ]
          },
          "metadata": {
            "tags": []
          },
          "execution_count": 46
        }
      ]
    },
    {
      "cell_type": "markdown",
      "metadata": {
        "id": "InaAcFT-HYot",
        "colab_type": "text"
      },
      "source": [
        "We have built models and made predictions of vehicle prices. Now we will determine how accurate these predictions are."
      ]
    },
    {
      "cell_type": "markdown",
      "metadata": {
        "id": "Gdp_nbWQIKID",
        "colab_type": "text"
      },
      "source": [
        "<h2><b>Functions for plotting</b></h2>"
      ]
    },
    {
      "cell_type": "code",
      "metadata": {
        "id": "cWMAeuhrIXLt",
        "colab_type": "code",
        "colab": {}
      },
      "source": [
        "def DistributionPlot(RedFunction, BlueFunction, RedName, BlueName, Title):\n",
        "    width = 12\n",
        "    height = 10\n",
        "    plt.figure(figsize=(width, height))\n",
        "\n",
        "    ax1 = sns.distplot(RedFunction, hist=False, color=\"r\", label=RedName)\n",
        "    ax2 = sns.distplot(BlueFunction, hist=False, color=\"b\", label=BlueName, ax=ax1)\n",
        "\n",
        "    plt.title(Title)\n",
        "    plt.xlabel('Price (in dollars)')\n",
        "    plt.ylabel('Proportion of Cars')\n",
        "\n",
        "    plt.show()\n",
        "    plt.close()"
      ],
      "execution_count": 0,
      "outputs": []
    },
    {
      "cell_type": "code",
      "metadata": {
        "id": "oNGhgnALIgEw",
        "colab_type": "code",
        "colab": {}
      },
      "source": [
        "def PollyPlot(xtrain, xtest, y_train, y_test, lr,poly_transform):\n",
        "    width = 12\n",
        "    height = 10\n",
        "    plt.figure(figsize=(width, height))\n",
        "    \n",
        "    \n",
        "    #training data \n",
        "    #testing data \n",
        "    # lr:  linear regression object \n",
        "    #poly_transform:  polynomial transformation object \n",
        " \n",
        "    xmax=max([xtrain.values.max(), xtest.values.max()])\n",
        "\n",
        "    xmin=min([xtrain.values.min(), xtest.values.min()])\n",
        "\n",
        "    x=np.arange(xmin, xmax, 0.1)\n",
        "\n",
        "\n",
        "    plt.plot(xtrain, y_train, 'ro', label='Training Data')\n",
        "    plt.plot(xtest, y_test, 'go', label='Test Data')\n",
        "    plt.plot(x, lr.predict(poly_transform.fit_transform(x.reshape(-1, 1))), label='Predicted Function')\n",
        "    plt.ylim([-10000, 60000])\n",
        "    plt.ylabel('Price')\n",
        "    plt.legend()"
      ],
      "execution_count": 0,
      "outputs": []
    },
    {
      "cell_type": "code",
      "metadata": {
        "id": "moaI2t6RP5vv",
        "colab_type": "code",
        "colab": {}
      },
      "source": [
        "y_data = df['price']"
      ],
      "execution_count": 0,
      "outputs": []
    },
    {
      "cell_type": "markdown",
      "metadata": {
        "id": "Bxh0lBalbCUi",
        "colab_type": "text"
      },
      "source": [
        "drop price data in x data"
      ]
    },
    {
      "cell_type": "code",
      "metadata": {
        "id": "KqWTXHYybGMA",
        "colab_type": "code",
        "colab": {}
      },
      "source": [
        "x_data=df.drop('price',axis=1)"
      ],
      "execution_count": 0,
      "outputs": []
    },
    {
      "cell_type": "markdown",
      "metadata": {
        "id": "CZhobVbbbJ-s",
        "colab_type": "text"
      },
      "source": [
        "Now we randomly split our data into training and testing data  using the function <b>train_test_split</b>."
      ]
    },
    {
      "cell_type": "code",
      "metadata": {
        "id": "3nJmU4n6bOeO",
        "colab_type": "code",
        "outputId": "3b420fc4-af39-4423-e638-977e9744a257",
        "colab": {
          "base_uri": "https://localhost:8080/",
          "height": 52
        }
      },
      "source": [
        "from sklearn.model_selection import train_test_split\n",
        "\n",
        "x_train, x_test, y_train, y_test = train_test_split(x_data, y_data, test_size=0.15, random_state=1)\n",
        "\n",
        "print(\"number of test samples :\", x_test.shape[0])\n",
        "print(\"number of training samples:\",x_train.shape[0])"
      ],
      "execution_count": 0,
      "outputs": [
        {
          "output_type": "stream",
          "text": [
            "number of test samples : 31\n",
            "number of training samples: 170\n"
          ],
          "name": "stdout"
        }
      ]
    },
    {
      "cell_type": "markdown",
      "metadata": {
        "id": "gLzRQVQIcLdJ",
        "colab_type": "text"
      },
      "source": [
        "Sometimes you do not have sufficient testing data; as a result, you may want to perform Cross-validation. Let's  go over several methods that you can use for  Cross-validation. "
      ]
    },
    {
      "cell_type": "markdown",
      "metadata": {
        "id": "eFtIb5rzcO7J",
        "colab_type": "text"
      },
      "source": [
        "<center><h1><b>Part 1: Cross-validation Score</h1></b>\n",
        "\n",
        "<img  src = \"https://scikit-learn.org/stable/_images/grid_search_cross_validation.png\" width=\"500\" height=\"300\">\n",
        "</center>"
      ]
    },
    {
      "cell_type": "markdown",
      "metadata": {
        "id": "Ul2oSuyXcWHk",
        "colab_type": "text"
      },
      "source": [
        "Lets import <b>cross_val_score</b> from the module <b>model_selection</b>."
      ]
    },
    {
      "cell_type": "code",
      "metadata": {
        "id": "F0eNCa65cevP",
        "colab_type": "code",
        "colab": {}
      },
      "source": [
        "from sklearn.model_selection import cross_val_score"
      ],
      "execution_count": 0,
      "outputs": []
    },
    {
      "cell_type": "markdown",
      "metadata": {
        "id": "pRdAb5NDba0x",
        "colab_type": "text"
      },
      "source": [
        "Let's import <b>LinearRegression</b> from the module <b>linear_model</b>."
      ]
    },
    {
      "cell_type": "code",
      "metadata": {
        "id": "unrhOH68bd_i",
        "colab_type": "code",
        "colab": {}
      },
      "source": [
        "from sklearn.linear_model import LinearRegression"
      ],
      "execution_count": 0,
      "outputs": []
    },
    {
      "cell_type": "code",
      "metadata": {
        "id": "JdNp9Cfr1vLa",
        "colab_type": "code",
        "colab": {}
      },
      "source": [
        "lre=LinearRegression()"
      ],
      "execution_count": 0,
      "outputs": []
    },
    {
      "cell_type": "markdown",
      "metadata": {
        "id": "p6d3rpC_ciVY",
        "colab_type": "text"
      },
      "source": [
        "We input the object, the feature in this case ' horsepower', the target data (y_data). The parameter 'cv'  determines the number of folds; in this case 4. "
      ]
    },
    {
      "cell_type": "code",
      "metadata": {
        "id": "PAb6VMf2cmef",
        "colab_type": "code",
        "colab": {}
      },
      "source": [
        "Rcross = cross_val_score(lre, x_data[['horsepower']], y_data, cv=4)"
      ],
      "execution_count": 0,
      "outputs": []
    },
    {
      "cell_type": "markdown",
      "metadata": {
        "id": "P_Q-G-JwcqE_",
        "colab_type": "text"
      },
      "source": [
        "<b>The default scoring is R^2; each element in the array has the average  R^2 value in the fold:</b>"
      ]
    },
    {
      "cell_type": "code",
      "metadata": {
        "id": "dKClOfTNcu_O",
        "colab_type": "code",
        "outputId": "71870a33-a00c-4581-c120-412ed2f000f5",
        "colab": {
          "base_uri": "https://localhost:8080/",
          "height": 35
        }
      },
      "source": [
        "Rcross"
      ],
      "execution_count": 0,
      "outputs": [
        {
          "output_type": "execute_result",
          "data": {
            "text/plain": [
              "array([0.7746232 , 0.51716687, 0.74785353, 0.04839605])"
            ]
          },
          "metadata": {
            "tags": []
          },
          "execution_count": 56
        }
      ]
    },
    {
      "cell_type": "markdown",
      "metadata": {
        "id": "3ObHrA20c1up",
        "colab_type": "text"
      },
      "source": [
        " We can calculate the average and standard deviation of our estimate:"
      ]
    },
    {
      "cell_type": "code",
      "metadata": {
        "id": "i2-HuPEAc5Ge",
        "colab_type": "code",
        "outputId": "4576d83c-2dc7-4dec-b78e-55899b171882",
        "colab": {
          "base_uri": "https://localhost:8080/",
          "height": 35
        }
      },
      "source": [
        "print(\"The mean of the folds are\", Rcross.mean(), \"and the standard deviation is\" , Rcross.std())"
      ],
      "execution_count": 0,
      "outputs": [
        {
          "output_type": "stream",
          "text": [
            "The mean of the folds are 0.522009915042119 and the standard deviation is 0.291183944475603\n"
          ],
          "name": "stdout"
        }
      ]
    },
    {
      "cell_type": "markdown",
      "metadata": {
        "id": "OX9FMRehc81v",
        "colab_type": "text"
      },
      "source": [
        "<b>We can use negative squared error as a score by setting the parameter  'scoring' metric to 'neg_mean_squared_error'></b>"
      ]
    },
    {
      "cell_type": "code",
      "metadata": {
        "id": "BONrG1GGdA9w",
        "colab_type": "code",
        "outputId": "09be97fd-2eba-4c7f-ffb3-1f859a5669aa",
        "colab": {
          "base_uri": "https://localhost:8080/",
          "height": 52
        }
      },
      "source": [
        "-1 * cross_val_score(lre,x_data[['horsepower']], y_data,cv=4,scoring='neg_mean_squared_error')"
      ],
      "execution_count": 0,
      "outputs": [
        {
          "output_type": "execute_result",
          "data": {
            "text/plain": [
              "array([20254142.84026702, 43745493.2650517 , 12539630.34014931,\n",
              "       17561927.72247591])"
            ]
          },
          "metadata": {
            "tags": []
          },
          "execution_count": 58
        }
      ]
    },
    {
      "cell_type": "markdown",
      "metadata": {
        "id": "LUtfFdxJdYpK",
        "colab_type": "text"
      },
      "source": [
        "You can also use the function <b>'cross_val_predict'</b> to predict the output. The function splits up the data into the specified number of folds, using one fold to get a prediction while the rest of the folds are used as training data. First import the function:"
      ]
    },
    {
      "cell_type": "code",
      "metadata": {
        "id": "11ieuXuPdbdw",
        "colab_type": "code",
        "colab": {}
      },
      "source": [
        "from sklearn.model_selection import cross_val_predict"
      ],
      "execution_count": 0,
      "outputs": []
    },
    {
      "cell_type": "markdown",
      "metadata": {
        "id": "eD8hUmYfdfvN",
        "colab_type": "text"
      },
      "source": [
        "We input the object, the feature in this case <b>'horsepower'</b> , the target data <b>y_data</b>. The parameter 'cv' determines the number of folds; in this case 4. We can produce an output:"
      ]
    },
    {
      "cell_type": "code",
      "metadata": {
        "id": "aDF2OTNddiZX",
        "colab_type": "code",
        "outputId": "e9c4f326-3b5c-4644-c090-81ab062d0215",
        "colab": {
          "base_uri": "https://localhost:8080/",
          "height": 35
        }
      },
      "source": [
        "yhat = cross_val_predict(lre,x_data[['horsepower']], y_data,cv=4)\n",
        "yhat.shape"
      ],
      "execution_count": 0,
      "outputs": [
        {
          "output_type": "execute_result",
          "data": {
            "text/plain": [
              "(201,)"
            ]
          },
          "metadata": {
            "tags": []
          },
          "execution_count": 61
        }
      ]
    },
    {
      "cell_type": "markdown",
      "metadata": {
        "id": "nJMoR8NxoD1W",
        "colab_type": "text"
      },
      "source": [
        "<center><h1 id=\"ref2\"><b>Part 2: Overfitting, Underfitting and Model Selection</b></h1>\n",
        "<img src= \"https://media.geeksforgeeks.org/wp-content/cdn-uploads/20190523171258/overfitting_2.png\" width=\"\" height=\"300\"></center>\n",
        "\n",
        "<b>Identify Under/Over fitting</b>\n",
        "\n",
        "If perform well on Traning data and generalize poorly on Testing data then overfitting.\n",
        "\n",
        "If perform poorly on both then Underfitting\n",
        "\n",
        "<b>Solution</b>\n",
        "\n",
        "If Underfitting then adding more data will no help. Use a more complex model or better features\n",
        "\n",
        "If overfitting then feed more data or Regularization will hell.\n"
      ]
    },
    {
      "cell_type": "markdown",
      "metadata": {
        "id": "9unoP59Rohcq",
        "colab_type": "text"
      },
      "source": [
        "Let's create Multiple linear regression objects and train the model using <b>'horsepower'</b>, <b>'curb-weight'</b>, <b>'engine-size'</b> and <b>'highway-mpg'</b> as features."
      ]
    },
    {
      "cell_type": "code",
      "metadata": {
        "id": "fX6dFVT6oiiy",
        "colab_type": "code",
        "outputId": "8234b498-d421-4d25-9c95-bd1adf4fb12f",
        "colab": {
          "base_uri": "https://localhost:8080/",
          "height": 35
        }
      },
      "source": [
        "lr = LinearRegression()\n",
        "lr.fit(x_train[['horsepower', 'curb-weight', 'engine-size', 'highway-mpg']], y_train)"
      ],
      "execution_count": 0,
      "outputs": [
        {
          "output_type": "execute_result",
          "data": {
            "text/plain": [
              "LinearRegression(copy_X=True, fit_intercept=True, n_jobs=None, normalize=False)"
            ]
          },
          "metadata": {
            "tags": []
          },
          "execution_count": 62
        }
      ]
    },
    {
      "cell_type": "markdown",
      "metadata": {
        "id": "ct2anKlLovXO",
        "colab_type": "text"
      },
      "source": [
        "Prediction using training data:"
      ]
    },
    {
      "cell_type": "code",
      "metadata": {
        "id": "U_MWbdsYow2m",
        "colab_type": "code",
        "outputId": "246be53c-c3aa-4dc5-deb4-15203dbdc62d",
        "colab": {
          "base_uri": "https://localhost:8080/",
          "height": 52
        }
      },
      "source": [
        "yhat_train = lr.predict(x_train[['horsepower', 'curb-weight', 'engine-size', 'highway-mpg']])\n",
        "yhat_train[0:5]"
      ],
      "execution_count": 0,
      "outputs": [
        {
          "output_type": "execute_result",
          "data": {
            "text/plain": [
              "array([11927.70699817, 11236.71672034,  6436.91775515, 21890.22064982,\n",
              "       16667.18254832])"
            ]
          },
          "metadata": {
            "tags": []
          },
          "execution_count": 63
        }
      ]
    },
    {
      "cell_type": "markdown",
      "metadata": {
        "id": "BieEyuEZo3UO",
        "colab_type": "text"
      },
      "source": [
        "Prediction using test data: "
      ]
    },
    {
      "cell_type": "code",
      "metadata": {
        "id": "Lpf5r7pao4kB",
        "colab_type": "code",
        "outputId": "1ffc95b7-f356-4841-f41f-d7c20b4c6a2a",
        "colab": {
          "base_uri": "https://localhost:8080/",
          "height": 52
        }
      },
      "source": [
        "yhat_test = lr.predict(x_test[['horsepower', 'curb-weight', 'engine-size', 'highway-mpg']])\n",
        "yhat_test[0:5]"
      ],
      "execution_count": 0,
      "outputs": [
        {
          "output_type": "execute_result",
          "data": {
            "text/plain": [
              "array([11349.16502418,  5914.48335385, 11243.76325987,  6662.03197043,\n",
              "       15555.76936275])"
            ]
          },
          "metadata": {
            "tags": []
          },
          "execution_count": 64
        }
      ]
    },
    {
      "cell_type": "markdown",
      "metadata": {
        "id": "AM7CAY1HpATT",
        "colab_type": "text"
      },
      "source": [
        "Let's perform some model evaluation using our training and testing data separately. First  we import the seaborn and matplotlibb library for plotting."
      ]
    },
    {
      "cell_type": "markdown",
      "metadata": {
        "id": "wPYJNW1bpH6f",
        "colab_type": "text"
      },
      "source": [
        "Let's examine the distribution of the predicted values of the training data."
      ]
    },
    {
      "cell_type": "code",
      "metadata": {
        "id": "Mcy_IVK0pMGG",
        "colab_type": "code",
        "outputId": "766ec943-de22-4000-9e22-037368d5e50a",
        "colab": {
          "base_uri": "https://localhost:8080/",
          "height": 621
        }
      },
      "source": [
        "Title = 'Distribution  Plot of  Predicted Value Using Training Data vs Training Data Distribution'\n",
        "DistributionPlot(y_train, yhat_train, \"Actual Values (Train)\", \"Predicted Values (Train)\", Title)"
      ],
      "execution_count": 0,
      "outputs": [
        {
          "output_type": "display_data",
          "data": {
            "image/png": "[encoded data removed]",
            "text/plain": [
              "<Figure size 864x720 with 1 Axes>"
            ]
          },
          "metadata": {
            "tags": []
          }
        }
      ]
    },
    {
      "cell_type": "markdown",
      "metadata": {
        "id": "sJ5fJjxspZo7",
        "colab_type": "text"
      },
      "source": [
        "Figure 1: Plot of predicted values using the training data compared to the training data. "
      ]
    },
    {
      "cell_type": "markdown",
      "metadata": {
        "id": "3BfoepiNpbBm",
        "colab_type": "text"
      },
      "source": [
        "So far the model seems to be doing well in learning from the training dataset. But what happens when the model encounters new data from the testing dataset? When the model generates new values from the test data, we see the distribution of the predicted values is much different from the actual target values. "
      ]
    },
    {
      "cell_type": "code",
      "metadata": {
        "id": "uE0cOJ8MphWy",
        "colab_type": "code",
        "outputId": "efa6a7b7-cbd2-42f4-f30f-dd52e83107ae",
        "colab": {
          "base_uri": "https://localhost:8080/",
          "height": 621
        }
      },
      "source": [
        "Title='Distribution  Plot of  Predicted Value Using Test Data vs Data Distribution of Test Data'\n",
        "DistributionPlot(y_test,yhat_test,\"Actual Values (Test)\",\"Predicted Values (Test)\",Title)"
      ],
      "execution_count": 0,
      "outputs": [
        {
          "output_type": "display_data",
          "data": {
            "image/png": "[encoded data removed]",
            "text/plain": [
              "<Figure size 864x720 with 1 Axes>"
            ]
          },
          "metadata": {
            "tags": []
          }
        }
      ]
    },
    {
      "cell_type": "markdown",
      "metadata": {
        "id": "GwBwNkeFsYqJ",
        "colab_type": "text"
      },
      "source": [
        "Figur 2: Plot of predicted value using the test data compared to the test data."
      ]
    },
    {
      "cell_type": "markdown",
      "metadata": {
        "id": "8b_5J7BQsbv5",
        "colab_type": "text"
      },
      "source": [
        "<p>Comparing Figure 1 and Figure 2; it is evident the distribution of the test data in Figure 1 is much better at fitting the data. This difference in Figure 2 is apparent where the ranges are from 5000 to 15 000. This is where the distribution shape is exceptionally different. Let's see if polynomial regression also exhibits a drop in the prediction accuracy when analysing the test dataset.</p>"
      ]
    },
    {
      "cell_type": "code",
      "metadata": {
        "id": "1LRi0Qqwsf4L",
        "colab_type": "code",
        "colab": {}
      },
      "source": [
        "from sklearn.preprocessing import PolynomialFeatures"
      ],
      "execution_count": 0,
      "outputs": []
    },
    {
      "cell_type": "markdown",
      "metadata": {
        "id": "OMCa6BLssmi5",
        "colab_type": "text"
      },
      "source": [
        "<h4><b>Overfitting</b></h4>\n",
        "<p>Overfitting occurs when the model fits the noise, not the underlying process. Therefore when testing your model using the test-set, your model does not perform as well as it is modelling noise, not the underlying process that generated the relationship. Let's create a degree 5 polynomial model.</p>"
      ]
    },
    {
      "cell_type": "markdown",
      "metadata": {
        "id": "OQzq61XqtVPk",
        "colab_type": "text"
      },
      "source": [
        "Let's use 55 percent of the data for testing and the rest for training:"
      ]
    },
    {
      "cell_type": "code",
      "metadata": {
        "id": "upITPUy-tZIF",
        "colab_type": "code",
        "colab": {}
      },
      "source": [
        "x_train, x_test, y_train, y_test = train_test_split(x_data, y_data, test_size=0.45, random_state=0)"
      ],
      "execution_count": 0,
      "outputs": []
    },
    {
      "cell_type": "markdown",
      "metadata": {
        "id": "1-XKV7WhtdL-",
        "colab_type": "text"
      },
      "source": [
        "We will perform a degree 5 polynomial transformation on the feature <b>'horse power'</b>. "
      ]
    },
    {
      "cell_type": "code",
      "metadata": {
        "id": "oeFjnhutti_O",
        "colab_type": "code",
        "outputId": "28c4d11d-3b57-4fa0-c645-d13ffab970e6",
        "colab": {
          "base_uri": "https://localhost:8080/",
          "height": 52
        }
      },
      "source": [
        "pr = PolynomialFeatures(degree=5)\n",
        "x_train_pr = pr.fit_transform(x_train[['horsepower']])\n",
        "x_test_pr = pr.fit_transform(x_test[['horsepower']])\n",
        "pr"
      ],
      "execution_count": 0,
      "outputs": [
        {
          "output_type": "execute_result",
          "data": {
            "text/plain": [
              "PolynomialFeatures(degree=5, include_bias=True, interaction_only=False,\n",
              "                   order='C')"
            ]
          },
          "metadata": {
            "tags": []
          },
          "execution_count": 69
        }
      ]
    },
    {
      "cell_type": "markdown",
      "metadata": {
        "id": "onNuHHp3tnIn",
        "colab_type": "text"
      },
      "source": [
        "Now let's create a linear regression model \"poly\" and train it."
      ]
    },
    {
      "cell_type": "code",
      "metadata": {
        "id": "eoAjpAiEtq9r",
        "colab_type": "code",
        "outputId": "2f8c0159-f7ce-4053-82f6-a3eee4779fe3",
        "colab": {
          "base_uri": "https://localhost:8080/",
          "height": 35
        }
      },
      "source": [
        "poly = LinearRegression()\n",
        "poly.fit(x_train_pr, y_train)"
      ],
      "execution_count": 0,
      "outputs": [
        {
          "output_type": "execute_result",
          "data": {
            "text/plain": [
              "LinearRegression(copy_X=True, fit_intercept=True, n_jobs=None, normalize=False)"
            ]
          },
          "metadata": {
            "tags": []
          },
          "execution_count": 70
        }
      ]
    },
    {
      "cell_type": "markdown",
      "metadata": {
        "id": "qPsi9skstu_m",
        "colab_type": "text"
      },
      "source": [
        "We can see the output of our model using the method  \"predict.\" then assign the values to \"yhat\"."
      ]
    },
    {
      "cell_type": "code",
      "metadata": {
        "id": "8ENKl30ftyTq",
        "colab_type": "code",
        "outputId": "3539176f-1592-4173-d9e8-5b5af638dd13",
        "colab": {
          "base_uri": "https://localhost:8080/",
          "height": 52
        }
      },
      "source": [
        "yhat = poly.predict(x_test_pr)\n",
        "yhat[0:5]"
      ],
      "execution_count": 0,
      "outputs": [
        {
          "output_type": "execute_result",
          "data": {
            "text/plain": [
              "array([ 6728.65561887,  7307.98782321, 12213.78770965, 18893.24804015,\n",
              "       19995.95195136])"
            ]
          },
          "metadata": {
            "tags": []
          },
          "execution_count": 71
        }
      ]
    },
    {
      "cell_type": "markdown",
      "metadata": {
        "id": "srsjGJLjt25A",
        "colab_type": "text"
      },
      "source": [
        "Let's take the first five predicted values and compare it to the actual targets. "
      ]
    },
    {
      "cell_type": "code",
      "metadata": {
        "id": "P1YIB3DUt6Vu",
        "colab_type": "code",
        "outputId": "35ab4429-0bd7-496b-bfab-3b90696377e8",
        "colab": {
          "base_uri": "https://localhost:8080/",
          "height": 52
        }
      },
      "source": [
        "print(\"Predicted values:\", yhat[0:4])\n",
        "print(\"True values:\", y_test[0:4].values)"
      ],
      "execution_count": 0,
      "outputs": [
        {
          "output_type": "stream",
          "text": [
            "Predicted values: [ 6728.65561887  7307.98782321 12213.78770965 18893.24804015]\n",
            "True values: [ 6295. 10698. 13860. 13499.]\n"
          ],
          "name": "stdout"
        }
      ]
    },
    {
      "cell_type": "markdown",
      "metadata": {
        "id": "OssFzrYht_Eb",
        "colab_type": "text"
      },
      "source": [
        "We will use the function \"PollyPlot\" that we defined at the beginning of the lab to display the training data, testing data, and the predicted function."
      ]
    },
    {
      "cell_type": "code",
      "metadata": {
        "id": "DD5z6aNYuCSG",
        "colab_type": "code",
        "outputId": "b19fcbba-be9e-459b-87e7-2af6aa74060c",
        "colab": {
          "base_uri": "https://localhost:8080/",
          "height": 595
        }
      },
      "source": [
        "PollyPlot(x_train[['horsepower']], x_test[['horsepower']], y_train, y_test, poly,pr)"
      ],
      "execution_count": 0,
      "outputs": [
        {
          "output_type": "display_data",
          "data": {
            "image/png": "[encoded data removed]",
            "text/plain": [
              "<Figure size 864x720 with 1 Axes>"
            ]
          },
          "metadata": {
            "tags": []
          }
        }
      ]
    },
    {
      "cell_type": "markdown",
      "metadata": {
        "id": "Byg6Jmq9uHF1",
        "colab_type": "text"
      },
      "source": [
        "Figur 4 A polynomial regression model, red dots represent training data, green dots represent test data, and the blue line represents the model prediction. "
      ]
    },
    {
      "cell_type": "markdown",
      "metadata": {
        "id": "E8Es_8L6uKi3",
        "colab_type": "text"
      },
      "source": [
        "We see that the estimated function appears to track the data but around 200 horsepower, the function begins to diverge from the data points."
      ]
    },
    {
      "cell_type": "markdown",
      "metadata": {
        "id": "_Jbq1xqEuP15",
        "colab_type": "text"
      },
      "source": [
        " R^2 of the training data:"
      ]
    },
    {
      "cell_type": "code",
      "metadata": {
        "id": "7RRFmafPuSwT",
        "colab_type": "code",
        "outputId": "20cf7245-4a2f-4114-9c8f-cce2cfb60f97",
        "colab": {
          "base_uri": "https://localhost:8080/",
          "height": 35
        }
      },
      "source": [
        "poly.score(x_train_pr, y_train)"
      ],
      "execution_count": 0,
      "outputs": [
        {
          "output_type": "execute_result",
          "data": {
            "text/plain": [
              "0.556771690212023"
            ]
          },
          "metadata": {
            "tags": []
          },
          "execution_count": 74
        }
      ]
    },
    {
      "cell_type": "markdown",
      "metadata": {
        "id": "3UayHAc8uXLX",
        "colab_type": "text"
      },
      "source": [
        " R^2 of the test data:"
      ]
    },
    {
      "cell_type": "code",
      "metadata": {
        "id": "4TgpAcs9uaGG",
        "colab_type": "code",
        "outputId": "211cf83a-d228-40c3-dfa4-05e66aec2531",
        "colab": {
          "base_uri": "https://localhost:8080/",
          "height": 35
        }
      },
      "source": [
        "poly.score(x_test_pr, y_test)"
      ],
      "execution_count": 0,
      "outputs": [
        {
          "output_type": "execute_result",
          "data": {
            "text/plain": [
              "-29.871340302044153"
            ]
          },
          "metadata": {
            "tags": []
          },
          "execution_count": 75
        }
      ]
    },
    {
      "cell_type": "markdown",
      "metadata": {
        "id": "O59i1nQZuebe",
        "colab_type": "text"
      },
      "source": [
        "We see the R^2 for the training data is 0.5567 while the R^2 on the test data was -29.87.  The lower the R^2, the worse the model, a Negative R^2 is a sign of overfitting."
      ]
    },
    {
      "cell_type": "markdown",
      "metadata": {
        "id": "lD3ug-tQuiGO",
        "colab_type": "text"
      },
      "source": [
        "Let's see how the R^2 changes on the test data for <b> different order polynomials</b> \n",
        "\n",
        "---\n",
        "\n",
        "and plot the results:"
      ]
    },
    {
      "cell_type": "code",
      "metadata": {
        "id": "BiDZPr3_unMv",
        "colab_type": "code",
        "outputId": "e3806b5f-649d-44c0-b9c4-b6992496d20d",
        "colab": {
          "base_uri": "https://localhost:8080/",
          "height": 313
        }
      },
      "source": [
        "Rsqu_test = []\n",
        "\n",
        "order = [1, 2, 3, 4]\n",
        "for n in order:\n",
        "    pr = PolynomialFeatures(degree=n)\n",
        "    \n",
        "    x_train_pr = pr.fit_transform(x_train[['horsepower']])\n",
        "    \n",
        "    x_test_pr = pr.fit_transform(x_test[['horsepower']])    \n",
        "    \n",
        "    lr.fit(x_train_pr, y_train)\n",
        "    \n",
        "    Rsqu_test.append(lr.score(x_test_pr, y_test))\n",
        "\n",
        "plt.plot(order, Rsqu_test)\n",
        "plt.xlabel('order')\n",
        "plt.ylabel('R^2')\n",
        "plt.title('R^2 Using Test Data')\n",
        "plt.text(3.0,0.75, 'Maximum R^2 ') "
      ],
      "execution_count": 0,
      "outputs": [
        {
          "output_type": "execute_result",
          "data": {
            "text/plain": [
              "Text(3.0, 0.75, 'Maximum R^2 ')"
            ]
          },
          "metadata": {
            "tags": []
          },
          "execution_count": 76
        },
        {
          "output_type": "display_data",
          "data": {
            "image/png": "[encoded data removed]",
            "text/plain": [
              "<Figure size 432x288 with 1 Axes>"
            ]
          },
          "metadata": {
            "tags": []
          }
        }
      ]
    },
    {
      "cell_type": "markdown",
      "metadata": {
        "id": "mNtoxqdkuwR3",
        "colab_type": "text"
      },
      "source": [
        "We see the R^2 gradually increases until an order three polynomial is used. Then the  R^2 dramatically decreases at four."
      ]
    },
    {
      "cell_type": "markdown",
      "metadata": {
        "id": "Ue1U62enuztx",
        "colab_type": "text"
      },
      "source": [
        "The following function will be used in the next section; please run the cell."
      ]
    },
    {
      "cell_type": "code",
      "metadata": {
        "id": "eLrJg8Lmu3Md",
        "colab_type": "code",
        "colab": {}
      },
      "source": [
        "def f(order, test_data):\n",
        "    x_train, x_test, y_train, y_test = train_test_split(x_data, y_data, test_size=test_data, random_state=0)\n",
        "    pr = PolynomialFeatures(degree=order)\n",
        "    x_train_pr = pr.fit_transform(x_train[['horsepower']])\n",
        "    x_test_pr = pr.fit_transform(x_test[['horsepower']])\n",
        "    poly = LinearRegression()\n",
        "    poly.fit(x_train_pr,y_train)\n",
        "    PollyPlot(x_train[['horsepower']], x_test[['horsepower']], y_train,y_test, poly, pr)"
      ],
      "execution_count": 0,
      "outputs": []
    },
    {
      "cell_type": "markdown",
      "metadata": {
        "id": "SnmQmi7Ku71X",
        "colab_type": "text"
      },
      "source": [
        "The following interface allows you to experiment with different polynomial orders and different amounts of data."
      ]
    },
    {
      "cell_type": "code",
      "metadata": {
        "id": "Ej6FIbeWu_hl",
        "colab_type": "code",
        "outputId": "9464d57c-9798-427c-ff65-d99aa1271547",
        "colab": {
          "base_uri": "https://localhost:8080/",
          "height": 676,
          "referenced_widgets": [
            "587f06ca5e05462481b4e68c0171c5ff",
            "6e6cff4894c24cd28a8760480c3ff69c",
            "6a48f0ab35084e459ad4e43aeeb028ee",
            "30c796e48a8847db9aceb04bfbcb5563",
            "b9b53a30c4134b2eafdc24f619f284d0",
            "9f56d76f7ad348e8b1c866ffb7fe0024",
            "890d1323939c4733b18a04157f4d2e1c",
            "39c546db918d413e8d4080e7389aa2f8",
            "194c6a0fe75245338fb1951a1ac21c36"
          ]
        }
      },
      "source": [
        "interact(f, order=(0, 6, 1), test_data=(0.05, 0.95, 0.05))"
      ],
      "execution_count": 0,
      "outputs": [
        {
          "output_type": "display_data",
          "data": {
            "application/vnd.jupyter.widget-view+json": {
              "model_id": "587f06ca5e05462481b4e68c0171c5ff",
              "version_minor": 0,
              "version_major": 2
            },
            "text/plain": [
              "interactive(children=(IntSlider(value=3, description='order', max=6), FloatSlider(value=0.45, description='tes…"
            ]
          },
          "metadata": {
            "tags": []
          }
        },
        {
          "output_type": "execute_result",
          "data": {
            "text/plain": [
              "<function __main__.f>"
            ]
          },
          "metadata": {
            "tags": []
          },
          "execution_count": 78
        }
      ]
    },
    {
      "cell_type": "code",
      "metadata": {
        "id": "wA6NFdMCIsPM",
        "colab_type": "code",
        "colab": {}
      },
      "source": [
        ""
      ],
      "execution_count": 0,
      "outputs": []
    }
  ]
}